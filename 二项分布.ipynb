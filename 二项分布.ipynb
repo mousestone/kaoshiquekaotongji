{
 "cells": [
  {
   "cell_type": "code",
   "execution_count": 1,
   "metadata": {},
   "outputs": [],
   "source": [
    "# 二项分布\n",
    "\n",
    "from scipy.stats import binom\n",
    "import matplotlib as mpl\n",
    "import matplotlib.pyplot as plt\n",
    "import numpy as np\n",
    " \n",
    "## 设置属性防止中文乱码\n",
    "mpl.rcParams['font.sans-serif'] = [u'Arial Unicode MS']\n",
    "mpl.rcParams['axes.unicode_minus'] = False"
   ]
  },
  {
   "cell_type": "code",
   "execution_count": 5,
   "metadata": {},
   "outputs": [
    {
     "name": "stdout",
     "output_type": "stream",
     "text": [
      "8.7 6.177 0.16898979912944623 -0.03810911445685605\n"
     ]
    },
    {
     "data": {
      "image/png": "[encoded data removed]",
      "text/plain": [
       "<Figure size 432x288 with 1 Axes>"
      ]
     },
     "metadata": {
      "needs_background": "light"
     },
     "output_type": "display_data"
    }
   ],
   "source": [
    "# n为参加考试的考生人数 p为参考率\n",
    "# 根据前期数据统计 基地第一科的缺考率为0.298419\n",
    "fig,ax = plt.subplots(1,1)\n",
    "n = 30\n",
    "\n",
    "p = 0.29\n",
    "n1 = 40\n",
    "p1 = 0.71\n",
    "#平均值, 方差, 偏度, 峰度\n",
    "\n",
    "mean,var,skew,kurt = binom.stats(n,p,moments='mvsk')\n",
    "print (mean,var,skew,kurt)\n",
    "#ppf:累积分布函数的反函数。q=0.01时，ppf就是p(X<x)=0.01时的x值。\n",
    "x = np.arange(binom.ppf(0, n, p),binom.ppf(1, n, p))\n",
    "ax.plot(x, binom.pmf(x, n, p),'o',color='r')\n",
    "# x1 = np.arange(binom.ppf(0, n1, p1),binom.ppf(1, n1, p1))\n",
    "# ax.plot(x1, binom.pmf(x1, n1, p1), 'o', color='g')\n",
    "plt.title(u'30人缺考情况分布')\n",
    "\n",
    "plt.savefig(u'30人缺考情况分布', dpi=400)\n",
    "plt.show()"
   ]
  },
  {
   "cell_type": "code",
   "execution_count": 5,
   "metadata": {},
   "outputs": [
    {
     "data": {
      "image/png": "[encoded data removed]",
      "text/plain": [
       "<Figure size 432x288 with 1 Axes>"
      ]
     },
     "metadata": {
      "needs_background": "light"
     },
     "output_type": "display_data"
    },
    {
     "name": "stdout",
     "output_type": "stream",
     "text": [
      "[30 31 32 33 34 35 36 37 38 39] [0.0, 0.0007592250067923597, 0.00782932419907679, 0.04178722516191198, 0.15385766903717388, 0.4395484615715271, 1.0391806928876355, 2.1179302969508047, 3.827988210646731, 6.265394146174014]\n"
     ]
    }
   ],
   "source": [
    "%matplotlib inline\n",
    "fig,ax = plt.subplots(1,1)\n",
    "x= np.arange(30,40,1)\n",
    "y=0.71\n",
    "z = []\n",
    "for i in x:\n",
    "    p = binom.pmf(np.arange(31,45,1),i,y)\n",
    "#     print(p)\n",
    "    z.append(p.sum()*i)\n",
    "\n",
    "ax.plot(x,z,'o', color='g')\n",
    "plt.title(u'30人考室按照0-10个人超排后超过考室容量的人数')\n",
    "plt.savefig(u'超排后的人数', dpi=400)\n",
    "plt.show()\n",
    "print(x,z)"
   ]
  },
  {
   "cell_type": "code",
   "execution_count": 7,
   "metadata": {},
   "outputs": [
    {
     "data": {
      "text/html": [
       "<div>\n",
       "<style scoped>\n",
       "    .dataframe tbody tr th:only-of-type {\n",
       "        vertical-align: middle;\n",
       "    }\n",
       "\n",
       "    .dataframe tbody tr th {\n",
       "        vertical-align: top;\n",
       "    }\n",
       "\n",
       "    .dataframe thead th {\n",
       "        text-align: right;\n",
       "    }\n",
       "</style>\n",
       "<table border=\"1\" class=\"dataframe\">\n",
       "  <thead>\n",
       "    <tr style=\"text-align: right;\">\n",
       "      <th></th>\n",
       "      <th>nums</th>\n",
       "      <th>pepole</th>\n",
       "      <th>people_add</th>\n",
       "      <th>del_room</th>\n",
       "      <th>adition_room</th>\n",
       "    </tr>\n",
       "  </thead>\n",
       "  <tbody>\n",
       "    <tr>\n",
       "      <th>0</th>\n",
       "      <td>30</td>\n",
       "      <td>0.000000</td>\n",
       "      <td>0.000000</td>\n",
       "      <td>0</td>\n",
       "      <td>0.000000</td>\n",
       "    </tr>\n",
       "    <tr>\n",
       "      <th>1</th>\n",
       "      <td>31</td>\n",
       "      <td>0.000759</td>\n",
       "      <td>0.075923</td>\n",
       "      <td>3</td>\n",
       "      <td>0.002531</td>\n",
       "    </tr>\n",
       "    <tr>\n",
       "      <th>2</th>\n",
       "      <td>32</td>\n",
       "      <td>0.007829</td>\n",
       "      <td>0.782932</td>\n",
       "      <td>6</td>\n",
       "      <td>0.026098</td>\n",
       "    </tr>\n",
       "    <tr>\n",
       "      <th>3</th>\n",
       "      <td>33</td>\n",
       "      <td>0.041787</td>\n",
       "      <td>4.178723</td>\n",
       "      <td>10</td>\n",
       "      <td>0.139291</td>\n",
       "    </tr>\n",
       "    <tr>\n",
       "      <th>4</th>\n",
       "      <td>34</td>\n",
       "      <td>0.153858</td>\n",
       "      <td>15.385767</td>\n",
       "      <td>13</td>\n",
       "      <td>0.512859</td>\n",
       "    </tr>\n",
       "    <tr>\n",
       "      <th>5</th>\n",
       "      <td>35</td>\n",
       "      <td>0.439548</td>\n",
       "      <td>43.954846</td>\n",
       "      <td>16</td>\n",
       "      <td>1.465162</td>\n",
       "    </tr>\n",
       "    <tr>\n",
       "      <th>6</th>\n",
       "      <td>36</td>\n",
       "      <td>1.039181</td>\n",
       "      <td>103.918069</td>\n",
       "      <td>20</td>\n",
       "      <td>3.463936</td>\n",
       "    </tr>\n",
       "    <tr>\n",
       "      <th>7</th>\n",
       "      <td>37</td>\n",
       "      <td>2.117930</td>\n",
       "      <td>211.793030</td>\n",
       "      <td>23</td>\n",
       "      <td>7.059768</td>\n",
       "    </tr>\n",
       "    <tr>\n",
       "      <th>8</th>\n",
       "      <td>38</td>\n",
       "      <td>3.827988</td>\n",
       "      <td>382.798821</td>\n",
       "      <td>26</td>\n",
       "      <td>12.759961</td>\n",
       "    </tr>\n",
       "    <tr>\n",
       "      <th>9</th>\n",
       "      <td>39</td>\n",
       "      <td>6.265394</td>\n",
       "      <td>626.539415</td>\n",
       "      <td>30</td>\n",
       "      <td>20.884647</td>\n",
       "    </tr>\n",
       "  </tbody>\n",
       "</table>\n",
       "</div>"
      ],
      "text/plain": [
       "   nums    pepole  people_add  del_room  adition_room\n",
       "0    30  0.000000    0.000000         0      0.000000\n",
       "1    31  0.000759    0.075923         3      0.002531\n",
       "2    32  0.007829    0.782932         6      0.026098\n",
       "3    33  0.041787    4.178723        10      0.139291\n",
       "4    34  0.153858   15.385767        13      0.512859\n",
       "5    35  0.439548   43.954846        16      1.465162\n",
       "6    36  1.039181  103.918069        20      3.463936\n",
       "7    37  2.117930  211.793030        23      7.059768\n",
       "8    38  3.827988  382.798821        26     12.759961\n",
       "9    39  6.265394  626.539415        30     20.884647"
      ]
     },
     "execution_count": 7,
     "metadata": {},
     "output_type": "execute_result"
    }
   ],
   "source": [
    "import pandas as pd\n",
    "import math\n",
    "n = 100\n",
    "data1 = {'nums' : x, 'pepole': z}\n",
    "df1 = pd.DataFrame(data1)\n",
    "df1['people_add'] = n*df1.pepole\n",
    "# df1['nums'] = df1['nums'].astype(float)\n",
    "df1['del_room'] = (n *(df1.nums - 30)/30).astype(int)\n",
    "df1['adition_room'] = (df1.people_add/30.0).astype(float)\n",
    "df1"
   ]
  },
  {
   "cell_type": "code",
   "execution_count": 17,
   "metadata": {},
   "outputs": [
    {
     "name": "stdout",
     "output_type": "stream",
     "text": [
      "30\n",
      "0.23054165380877056\n",
      "31\n",
      "0.16021737008452264\n",
      "32\n",
      "0.10865689507011445\n",
      "33\n",
      "0.07506048381658148\n",
      "34\n",
      "0.05922593051314595\n",
      "35\n",
      "0.061942182103723376\n",
      "36\n",
      "0.08448046633901185\n",
      "37\n",
      "0.1275398150325895\n",
      "38\n",
      "0.19021970837330926\n",
      "39\n",
      "0.2695076616018186\n",
      "[20 21 22 23 24 25 26 27 28 29]\n"
     ]
    },
    {
     "data": {
      "image/png": "[encoded data removed]",
      "text/plain": [
       "<Figure size 432x288 with 1 Axes>"
      ]
     },
     "metadata": {
      "needs_background": "light"
     },
     "output_type": "display_data"
    }
   ],
   "source": [
    "fig,ax = plt.subplots(1,1)\n",
    "# 计算当30到40缺考的概率\n",
    "x1= np.arange(30,40,1)\n",
    "y1=0.71\n",
    "z = []\n",
    "for i in x:\n",
    "    print(i)\n",
    "    p = binom.pmf(np.arange(20,30,1),i,y1)\n",
    "    print(1-p.sum())\n",
    "    z.append(1-p.sum())\n",
    "print(ar1)\n",
    "\n",
    "ax.plot(x,z,'o', color='g')\n",
    "plt.title(u'超排后可能出现不满30人的情况')\n",
    "plt.savefig(u'超排后的不满30人', dpi=400)\n",
    "plt.show()"
   ]
  }
 ],
 "metadata": {
  "kernelspec": {
   "display_name": "Python 3",
   "language": "python",
   "name": "python3"
  },
  "language_info": {
   "codemirror_mode": {
    "name": "ipython",
    "version": 3
   },
   "file_extension": ".py",
   "mimetype": "text/x-python",
   "name": "python",
   "nbconvert_exporter": "python",
   "pygments_lexer": "ipython3",
   "version": "3.7.3"
  }
 },
 "nbformat": 4,
 "nbformat_minor": 4
}
